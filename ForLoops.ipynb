{
 "cells": [
  {
   "cell_type": "markdown",
   "metadata": {
    "collapsed": false
   },
   "source": [
    "Many Objects are iterable:\n",
    "\n",
    "elements in a list - characters in strings\n",
    "\n",
    "perform an action for everything in a object - Going through an object\n",
    "\n",
    "Syntax \n",
    "\n",
    "my_iterable = [1,2,3,] - this is a list\n",
    "\n",
    "for item_name in my_iterable: - item_name is the placeholder for every element in the object\n",
    "    print(item_name)\n",
    ">>1\n",
    "\n",
    ">>2\n",
    "\n",
    ">>3"
   ]
  },
  {
   "cell_type": "code",
   "execution_count": 1,
   "metadata": {
    "collapsed": false
   },
   "outputs": [
    {
     "name": "stdout",
     "output_type": "stream",
     "text": [
      "1\n",
      "2\n",
      "3\n",
      "4\n",
      "5\n",
      "6\n",
      "7\n",
      "8\n",
      "9\n",
      "10\n"
     ]
    }
   ],
   "source": [
    "my_list = [1,2,3,4,5,6,7,8,9,10] # how to iterate through a list\n",
    "for num in my_list: # using a for loop to iterate through the list \"my_list\" # placeholder \"num\" holds each element in list will\n",
    "    print(num)"
   ]
  },
  {
   "cell_type": "code",
   "execution_count": 4,
   "metadata": {
    "collapsed": false
   },
   "outputs": [
    {
     "name": "stdout",
     "output_type": "stream",
     "text": [
      "2\n",
      "4\n",
      "6\n",
      "8\n",
      "10\n"
     ]
    }
   ],
   "source": [
    "# print out only the even numbers in the list\n",
    "for num in my_list:\n",
    "    #check for even numbers\n",
    "    if num % 2 == 0: # if divide num by 2 the remainder equals 0 print num\n",
    "        print(num)"
   ]
  },
  {
   "cell_type": "code",
   "execution_count": 5,
   "metadata": {
    "collapsed": false
   },
   "outputs": [
    {
     "name": "stdout",
     "output_type": "stream",
     "text": [
      "1\n",
      "3\n",
      "6\n",
      "10\n",
      "15\n",
      "21\n",
      "28\n",
      "36\n",
      "45\n",
      "55\n"
     ]
    }
   ],
   "source": [
    "# keep a running tally of # of loops\n",
    "list_sum = 0 # initate list_sum variable = 0\n",
    "for num in my_list:\n",
    "    list_sum = list_sum + num # add each object in the list to each other as the list is being iterated\n",
    "    print(list_sum) # 1+0 =1 +2 = 3 +3 = 6 +4 = 10 +5 = 15 ... 45 +10 = 55"
   ]
  },
  {
   "cell_type": "code",
   "execution_count": 6,
   "metadata": {
    "collapsed": false
   },
   "outputs": [
    {
     "name": "stdout",
     "output_type": "stream",
     "text": [
      "H\n",
      "e\n",
      "l\n",
      "l\n",
      "o\n",
      " \n",
      "w\n",
      "o\n",
      "r\n",
      "l\n",
      "d\n"
     ]
    }
   ],
   "source": [
    "my_string = 'Hello world' # how to iterate through a string\n",
    "\n",
    "\n",
    "for letter in my_string:\n",
    "    print(letter)"
   ]
  },
  {
   "cell_type": "code",
   "execution_count": 7,
   "metadata": {
    "collapsed": false
   },
   "outputs": [
    {
     "name": "stdout",
     "output_type": "stream",
     "text": [
      "1\n",
      "2\n",
      "3\n"
     ]
    }
   ],
   "source": [
    "tup = (1,2,3) # iterate through a tuple\n",
    "for x in tup:\n",
    "    print(x)"
   ]
  },
  {
   "cell_type": "code",
   "execution_count": 12,
   "metadata": {
    "collapsed": false
   },
   "outputs": [
    {
     "name": "stdout",
     "output_type": "stream",
     "text": [
      "1\n",
      "2\n",
      "3\n",
      "4\n",
      "5\n",
      "6\n",
      "7\n",
      "8\n"
     ]
    }
   ],
   "source": [
    "#tuple unpacking\n",
    "my_tuple_list = [(1,2),(3,4),(5,6),(7,8)]\n",
    "\n",
    "for a,b in my_tuple_list:\n",
    "    print(a) # prints first element in tuple\n",
    "    print(b) # prints second element in tuple"
   ]
  },
  {
   "cell_type": "code",
   "execution_count": 13,
   "metadata": {
    "collapsed": false
   },
   "outputs": [
    {
     "name": "stdout",
     "output_type": "stream",
     "text": [
      "3\n",
      "6\n",
      "9\n"
     ]
    }
   ],
   "source": [
    "my_list = [(1,2,3),(4,5,6),(7,8,9)]\n",
    "for a,b,c in my_list:\n",
    "    print(c)"
   ]
  },
  {
   "cell_type": "code",
   "execution_count": 20,
   "metadata": {
    "collapsed": false
   },
   "outputs": [
    {
     "name": "stdout",
     "output_type": "stream",
     "text": [
      "key1 Fire\n",
      "key2 Hot\n",
      "key3 Cool\n"
     ]
    }
   ],
   "source": [
    "#iterate through a dictionary\n",
    "d ={'key1':'Fire','key2':'Hot','key3':'Cool'}\n",
    "\n",
    "for key,value in d.items(): # must use items function to get the values and keys or else you will only get the keys\n",
    "    # use .values() to only get the values of the dictionary\n",
    "    # dictionaries are unordered\n",
    "    print(key,value) # use tuple unpacking to get both dictionary items"
   ]
  },
  {
   "cell_type": "code",
   "execution_count": 0,
   "metadata": {
    "collapsed": false
   },
   "outputs": [
   ],
   "source": [
   ]
  }
 ],
 "metadata": {
  "kernelspec": {
   "display_name": "Python 3 (system-wide)",
   "language": "python",
   "metadata": {
    "cocalc": {
     "description": "Python 3 programming language",
     "priority": 100,
     "url": "https://www.python.org/"
    }
   },
   "name": "python3",
   "resource_dir": "/ext/jupyter/kernels/python3"
  },
  "language_info": {
   "codemirror_mode": {
    "name": "ipython",
    "version": 3
   },
   "file_extension": ".py",
   "mimetype": "text/x-python",
   "name": "python",
   "nbconvert_exporter": "python",
   "pygments_lexer": "ipython3",
   "version": "3.8.10"
  }
 },
 "nbformat": 4,
 "nbformat_minor": 4
}