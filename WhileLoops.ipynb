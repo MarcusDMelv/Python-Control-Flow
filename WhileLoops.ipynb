{
 "cells": [
  {
   "cell_type": "markdown",
   "metadata": {
    "collapsed": false
   },
   "source": [
    "While loops continue to execute a block of code while some condition remains True\n",
    "\n",
    "Synax of a while loop\n",
    "\n",
    "while some_boolean_condition:\n",
    "\n",
    "    do something\n",
    "    \n",
    "    else:\n",
    "    \n",
    "    do something different"
   ]
  },
  {
   "cell_type": "code",
   "execution_count": 2,
   "metadata": {
    "collapsed": false
   },
   "outputs": [
    {
     "name": "stdout",
     "output_type": "stream",
     "text": [
      "The current value of x is 0\n",
      "The current value of x is 1\n",
      "The current value of x is 2\n",
      "The current value of x is 3\n",
      "The current value of x is 4\n"
     ]
    }
   ],
   "source": [
    "# create a while loop\n",
    "x = 0 #create a var\n",
    "while x < 5: # while this condition is true:\n",
    "    # run this block of code\n",
    "    print(f'The current value of x is {x}')\n",
    "    x += 1 # add 1 to x everytime while loop is running\n",
    "    # if condition does not change an infinite while loop will be created\n",
    "else:# if condition is not true\n",
    "    print(f'x is not less then 5 no more')"
   ]
  },
  {
   "cell_type": "markdown",
   "metadata": {
    "collapsed": false
   },
   "source": [
    "BREAK CONTINUE PASS\n",
    "\n",
    "We can break, continue, and pass statements in the loops to add additional functionality for various cases\n",
    "\n",
    "break: Breaks out the current closest enclosing loop\n",
    "\n",
    "continue: Goes to the top of the closest enclosing loop\n",
    "\n",
    "pass: Does nothing at all\n",
    "\n"
   ]
  },
  {
   "cell_type": "code",
   "execution_count": 4,
   "metadata": {
    "collapsed": false
   },
   "outputs": [
   ],
   "source": [
    "# using pass in a for loop\n",
    "\n",
    "x = [1,2,3]\n",
    "\n",
    "for item in x :\n",
    "    pass # dont want the program to crash use 'pass' as a filler to avoid error"
   ]
  },
  {
   "cell_type": "code",
   "execution_count": 12,
   "metadata": {
    "collapsed": false
   },
   "outputs": [
    {
     "name": "stdout",
     "output_type": "stream",
     "text": [
      "S\n",
      "m\n",
      "m\n",
      "y\n"
     ]
    }
   ],
   "source": [
    "# using continue in a for loop\n",
    "my_string = 'Sammy'\n",
    "\n",
    "for letter in my_string:\n",
    "    if letter == 'a':\n",
    "        continue # if the letter is a restart the loop\n",
    "    print(letter)"
   ]
  },
  {
   "cell_type": "code",
   "execution_count": 18,
   "metadata": {
    "collapsed": false
   },
   "outputs": [
    {
     "name": "stdout",
     "output_type": "stream",
     "text": [
      "0\n",
      "1\n",
      "2\n"
     ]
    }
   ],
   "source": [
    "# using break with an while statement which is more common\n",
    "x = 0\n",
    "while x < 5 :\n",
    "    if x == 3:\n",
    "        break # use break to break out the whole loop when condition is met\n",
    "    print(x)\n",
    "    x += 1"
   ]
  },
  {
   "cell_type": "code",
   "execution_count": 0,
   "metadata": {
    "collapsed": false
   },
   "outputs": [
   ],
   "source": [
   ]
  }
 ],
 "metadata": {
  "kernelspec": {
   "display_name": "Python 3 (system-wide)",
   "language": "python",
   "metadata": {
    "cocalc": {
     "description": "Python 3 programming language",
     "priority": 100,
     "url": "https://www.python.org/"
    }
   },
   "name": "python3",
   "resource_dir": "/ext/jupyter/kernels/python3"
  },
  "language_info": {
   "codemirror_mode": {
    "name": "ipython",
    "version": 3
   },
   "file_extension": ".py",
   "mimetype": "text/x-python",
   "name": "python",
   "nbconvert_exporter": "python",
   "pygments_lexer": "ipython3",
   "version": "3.8.10"
  }
 },
 "nbformat": 4,
 "nbformat_minor": 4
}