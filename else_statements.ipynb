{
 "cells": [
  {
   "cell_type": "code",
   "execution_count": 1,
   "metadata": {
    "collapsed": false
   },
   "outputs": [
   ],
   "source": [
    "# else statements are conditional statements that only execute when a condition is false\n",
    "\n",
    "# can be paired with if statements to make program more logical"
   ]
  },
  {
   "cell_type": "code",
   "execution_count": 8,
   "metadata": {
    "collapsed": false
   },
   "outputs": [
   ],
   "source": [
    "def else_condition():\n",
    "    a = int(input('Enter a number'))\n",
    "    b = int(input('Enter a number'))\n",
    "    c = int(input('Enter a number'))\n",
    "    if a > b:\n",
    "        return a,'is larger',b\n",
    "    elif b>=c:\n",
    "        return b,'is larger then',c\n",
    "    else:\n",
    "        return c,'is larger then',b,'and',a"
   ]
  },
  {
   "cell_type": "code",
   "execution_count": 11,
   "metadata": {
    "cocalc": {
     "outputs": {
      "0": {
       "name": "input",
       "opts": {
        "password": false,
        "prompt": "Enter a number"
       },
       "output_type": "stream",
       "value": "1"
      },
      "1": {
       "name": "input",
       "opts": {
        "password": false,
        "prompt": "Enter a number"
       },
       "output_type": "stream",
       "value": "21"
      },
      "2": {
       "name": "input",
       "opts": {
        "password": false,
        "prompt": "Enter a number"
       },
       "output_type": "stream",
       "value": "211"
      }
     }
    },
    "collapsed": false
   },
   "outputs": [
    {
     "name": "stdout",
     "output_type": "stream",
     "text": "Enter a number 1"
    },
    {
     "name": "stdout",
     "output_type": "stream",
     "text": "Enter a number 21"
    },
    {
     "name": "stdout",
     "output_type": "stream",
     "text": "Enter a number 211"
    },
    {
     "data": {
      "text/plain": [
       "(211, 'is larger then', 21, 'and', 1)"
      ]
     },
     "execution_count": 11,
     "metadata": {
     },
     "output_type": "execute_result"
    }
   ],
   "source": [
    "else_condition()"
   ]
  },
  {
   "cell_type": "code",
   "execution_count": 9,
   "metadata": {
    "cocalc": {
     "outputs": {
      "0": {
       "name": "input",
       "opts": {
        "password": false,
        "prompt": "Enter a number"
       },
       "output_type": "stream",
       "value": "122"
      },
      "1": {
       "name": "input",
       "opts": {
        "password": false,
        "prompt": "Enter a number"
       },
       "output_type": "stream",
       "value": "21"
      },
      "2": {
       "name": "input",
       "opts": {
        "password": false,
        "prompt": "Enter a number"
       },
       "output_type": "stream",
       "value": "11"
      }
     }
    },
    "collapsed": false
   },
   "outputs": [
    {
     "name": "stdout",
     "output_type": "stream",
     "text": "Enter a number 122"
    },
    {
     "name": "stdout",
     "output_type": "stream",
     "text": "Enter a number 21"
    },
    {
     "name": "stdout",
     "output_type": "stream",
     "text": "Enter a number 11"
    },
    {
     "data": {
      "text/plain": [
       "(122, 'is larger', 21)"
      ]
     },
     "execution_count": 9,
     "metadata": {
     },
     "output_type": "execute_result"
    }
   ],
   "source": [
    "else_condition()"
   ]
  },
  {
   "cell_type": "code",
   "execution_count": 10,
   "metadata": {
    "cocalc": {
     "outputs": {
      "0": {
       "name": "input",
       "opts": {
        "password": false,
        "prompt": "Enter a number"
       },
       "output_type": "stream",
       "value": "1"
      },
      "1": {
       "name": "input",
       "opts": {
        "password": false,
        "prompt": "Enter a number"
       },
       "output_type": "stream",
       "value": "222"
      },
      "2": {
       "name": "input",
       "opts": {
        "password": false,
        "prompt": "Enter a number"
       },
       "output_type": "stream",
       "value": "12"
      }
     }
    },
    "collapsed": false
   },
   "outputs": [
    {
     "name": "stdout",
     "output_type": "stream",
     "text": "Enter a number 1"
    },
    {
     "name": "stdout",
     "output_type": "stream",
     "text": "Enter a number 222"
    },
    {
     "name": "stdout",
     "output_type": "stream",
     "text": "Enter a number 12"
    },
    {
     "data": {
      "text/plain": [
       "(222, 'is larger then', 12)"
      ]
     },
     "execution_count": 10,
     "metadata": {
     },
     "output_type": "execute_result"
    }
   ],
   "source": [
    "else_condition()"
   ]
  },
  {
   "cell_type": "code",
   "execution_count": 0,
   "metadata": {
    "collapsed": false
   },
   "outputs": [
   ],
   "source": [
   ]
  }
 ],
 "metadata": {
  "kernelspec": {
   "display_name": "Python 3 (system-wide)",
   "language": "python",
   "metadata": {
    "cocalc": {
     "description": "Python 3 programming language",
     "priority": 100,
     "url": "https://www.python.org/"
    }
   },
   "name": "python3",
   "resource_dir": "/ext/jupyter/kernels/python3"
  },
  "language_info": {
   "codemirror_mode": {
    "name": "ipython",
    "version": 3
   },
   "file_extension": ".py",
   "mimetype": "text/x-python",
   "name": "python",
   "nbconvert_exporter": "python",
   "pygments_lexer": "ipython3",
   "version": "3.8.10"
  }
 },
 "nbformat": 4,
 "nbformat_minor": 4
}