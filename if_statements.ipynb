{
 "cells": [
  {
   "cell_type": "code",
   "execution_count": 1,
   "metadata": {
    "collapsed": false
   },
   "outputs": [
   ],
   "source": [
    "# conditional statements - statements that execute based of conditions\n",
    "\n",
    "# helps program make decisions\n",
    "\n",
    "# if statements use comparison and logical operators "
   ]
  },
  {
   "cell_type": "code",
   "execution_count": 12,
   "metadata": {
    "cocalc": {
     "outputs": {
      "0": {
       "name": "input",
       "opts": {
        "password": false,
        "prompt": "Enter a number"
       },
       "output_type": "stream",
       "value": "2"
      }
     }
    },
    "collapsed": false
   },
   "outputs": [
    {
     "name": "stdout",
     "output_type": "stream",
     "text": "Enter a number 2"
    },
    {
     "name": "stdout",
     "output_type": "stream",
     "text": [
      "Your number is 2\n"
     ]
    }
   ],
   "source": [
    " def run_condition():\n",
    "        n = int(input('Enter a number'))\n",
    "        if (2>n):\n",
    "            print('Your number is smaller then 2')\n",
    "        elif (2==n):\n",
    "            print(f'Your number is 2')\n",
    "        else:\n",
    "            print(f'{n} is larger then 2')\n",
    "        \n",
    "run_condition()"
   ]
  },
  {
   "cell_type": "code",
   "execution_count": 15,
   "metadata": {
    "collapsed": false
   },
   "outputs": [
    {
     "name": "stdout",
     "output_type": "stream",
     "text": [
      "7 is smaller then 8\n"
     ]
    }
   ],
   "source": [
    "a=7\n",
    "b=8\n",
    "\n",
    "if a<b:\n",
    "    # if condition is false nothing happens\n",
    "    print(a,'is smaller then',b)\n",
    "    # no else statement"
   ]
  },
  {
   "cell_type": "code",
   "execution_count": 16,
   "metadata": {
    "cocalc": {
     "outputs": {
      "0": {
       "name": "input",
       "opts": {
        "password": false,
        "prompt": "Enter a number"
       },
       "output_type": "stream",
       "value": "22"
      }
     }
    },
    "collapsed": false
   },
   "outputs": [
    {
     "name": "stdout",
     "output_type": "stream",
     "text": "Enter a number 22"
    },
    {
     "name": "stdout",
     "output_type": "stream",
     "text": [
      "22 is larger then 2\n"
     ]
    }
   ],
   "source": [
    "run_condition()"
   ]
  },
  {
   "cell_type": "code",
   "execution_count": 0,
   "metadata": {
    "collapsed": false
   },
   "outputs": [
   ],
   "source": [
   ]
  }
 ],
 "metadata": {
  "kernelspec": {
   "display_name": "Python 3 (system-wide)",
   "language": "python",
   "metadata": {
    "cocalc": {
     "description": "Python 3 programming language",
     "priority": 100,
     "url": "https://www.python.org/"
    }
   },
   "name": "python3",
   "resource_dir": "/ext/jupyter/kernels/python3"
  },
  "language_info": {
   "codemirror_mode": {
    "name": "ipython",
    "version": 3
   },
   "file_extension": ".py",
   "mimetype": "text/x-python",
   "name": "python",
   "nbconvert_exporter": "python",
   "pygments_lexer": "ipython3",
   "version": "3.8.10"
  }
 },
 "nbformat": 4,
 "nbformat_minor": 4
}