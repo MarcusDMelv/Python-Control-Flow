{
 "cells": [
  {
   "cell_type": "code",
   "execution_count": 1,
   "metadata": {
    "collapsed": false
   },
   "outputs": [
   ],
   "source": [
    "# a loop inside another loop\n"
   ]
  },
  {
   "cell_type": "code",
   "execution_count": 4,
   "metadata": {
    "collapsed": false
   },
   "outputs": [
   ],
   "source": [
    "colors = ['green','yellow','purple']\n",
    "fruits = ['grapes','orangezs','strawberries']\n",
    "numbers = list(range(1,4))"
   ]
  },
  {
   "cell_type": "code",
   "execution_count": 9,
   "metadata": {
    "collapsed": false
   },
   "outputs": [
    {
     "name": "stdout",
     "output_type": "stream",
     "text": [
      "\n",
      " green grapes\n",
      "\n",
      " green orangezs\n",
      "\n",
      " green strawberries\n",
      "\n",
      " yellow grapes\n",
      "\n",
      " yellow orangezs\n",
      "\n",
      " yellow strawberries\n",
      "\n",
      " purple grapes\n",
      "\n",
      " purple orangezs\n",
      "\n",
      " purple strawberries\n"
     ]
    }
   ],
   "source": [
    "# use a nested for loop to iterate\n",
    "for color in colors: # outter loop - it will go through each color for each fruit\n",
    "    for fruit in fruits: # inner loop - will execute once for each interation of the outter loop\n",
    "        print('\\n',color,fruit)"
   ]
  },
  {
   "cell_type": "code",
   "execution_count": 0,
   "metadata": {
    "collapsed": false
   },
   "outputs": [
   ],
   "source": [
   ]
  }
 ],
 "metadata": {
  "kernelspec": {
   "display_name": "Python 3 (system-wide)",
   "language": "python",
   "metadata": {
    "cocalc": {
     "description": "Python 3 programming language",
     "priority": 100,
     "url": "https://www.python.org/"
    }
   },
   "name": "python3",
   "resource_dir": "/ext/jupyter/kernels/python3"
  },
  "language_info": {
   "codemirror_mode": {
    "name": "ipython",
    "version": 3
   },
   "file_extension": ".py",
   "mimetype": "text/x-python",
   "name": "python",
   "nbconvert_exporter": "python",
   "pygments_lexer": "ipython3",
   "version": "3.8.10"
  }
 },
 "nbformat": 4,
 "nbformat_minor": 4
}